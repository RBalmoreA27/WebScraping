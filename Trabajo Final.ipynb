{
 "cells": [
  {
   "cell_type": "code",
   "execution_count": 94,
   "id": "5e25916c",
   "metadata": {
    "scrolled": true
   },
   "outputs": [],
   "source": [
    "from selenium import webdriver\n",
    "from selenium.webdriver.support.ui import Select\n",
    "from selenium.webdriver.common.by import By\n",
    "import time\n",
    "websiteTF='https://www.cinemarkca.com/index'\n",
    "websiteCinemas='https://cinemas.com.ni/cartelera/'\n",
    "path='/home/bahar/Descargas/chromedriver'\n"
   ]
  },
  {
   "cell_type": "code",
   "execution_count": 135,
   "id": "1f37c653",
   "metadata": {},
   "outputs": [
    {
     "name": "stderr",
     "output_type": "stream",
     "text": [
      "/tmp/ipykernel_3438/3908198718.py:1: DeprecationWarning: executable_path has been deprecated, please pass in a Service object\n",
      "  driver = webdriver.Chrome(path)\n"
     ]
    }
   ],
   "source": [
    "driver = webdriver.Chrome(path)\n",
    "driver.get(websiteCinemas)\n",
    "#def CerrarModal():\n",
    "#    modal= driver.find_element('id','modal-theatre-select')\n",
    "#    ventana= modal.find_element(By.CLASS_NAME,'change-theatre-button')\n",
    "#    botonCerrar=ventana.find_element('xpath','//button[@class=\"btn-primary next\"]')\n",
    "#    botonCerrar.click()\n",
    "\n",
    "def elegir():\n",
    "#    for i in 5:\n",
    "        cine=Select(driver.find_element('id','cnm_mov'))\n",
    "        options = cine.options\n",
    "        for index in range(0, len(options) - 1):\n",
    "            cine.select_by_index(index)\n",
    "            time.sleep(2)\n",
    "        time.sleep(2)\n",
    "\n",
    "\n",
    "time.sleep(3)\n",
    "\n",
    "link=[]\n",
    "cartelera=driver.find_elements('xpath','//div[@data-total=\"11\"]/a[@class=\"btn-red\"]')\n",
    "for movie in cartelera:\n",
    "    link.append(movie.get_attribute(\"href\"))\n",
    "    \n",
    "for i in link:\n",
    "    #driver.execute_script(\"window.open('');\")\n",
    "    #driver.switch_to.window(driver.window_handles[1])\n",
    "    driver.get(i)\n",
    "    elegir()\n",
    "    driver.back()\n",
    "    #driver.close()\n",
    "    #driver.switch_to.window(driver.window_handles[0])\n",
    "\n",
    "time.sleep(2)\n",
    "\n",
    "driver.quit()"
   ]
  }
 ],
 "metadata": {
  "kernelspec": {
   "display_name": "Python 3 (ipykernel)",
   "language": "python",
   "name": "python3"
  },
  "language_info": {
   "codemirror_mode": {
    "name": "ipython",
    "version": 3
   },
   "file_extension": ".py",
   "mimetype": "text/x-python",
   "name": "python",
   "nbconvert_exporter": "python",
   "pygments_lexer": "ipython3",
   "version": "3.9.7"
  }
 },
 "nbformat": 4,
 "nbformat_minor": 5
}
