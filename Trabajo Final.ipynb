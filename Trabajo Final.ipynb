{
 "cells": [
  {
   "cell_type": "code",
   "execution_count": 18,
   "id": "5e25916c",
   "metadata": {
    "scrolled": true
   },
   "outputs": [],
   "source": [
    "from selenium import webdriver\n",
    "from selenium.webdriver.support.ui import Select\n",
    "website='https://www.adamchoi.co.uk/teamgoals/detailed'\n",
    "path='/home/bahar/Descargas/chromedriver'\n"
   ]
  },
  {
   "cell_type": "code",
   "execution_count": null,
   "id": "1f37c653",
   "metadata": {},
   "outputs": [],
   "source": [
    "import time\n",
    "websiteTF='https://www.cinemarkca.com/index'\n",
    "\n",
    "driver = webdriver.Chrome(path)\n",
    "driver.get(websiteTF)\n",
    "\n",
    "time.sleep(2)\n",
    "\n",
    "cerrarVentanacine= driver.find_element('id','modal-theatre-select')\n",
    "cerrarcine= cerrarVentanacine.find_element(By.CLASS_NAME,'change-theatre-button')\n",
    "cerrar=cerrarcine.find_element('xpath','//button[@class=\"btn-primary next\"]')\n",
    "cerrar.click()\n",
    "\n",
    "country= driver.find_element('id','accordion')\n",
    "guatemala=country.find_element('xpath','//div[@class=\"panelTitle accordion-toggle\"]')\n",
    "guatemala.click()\n",
    "time.sleep(2)\n",
    "cinesGuate=guatemala.find_element('xpath','//ul[@class=\"panelBody\"]')\n",
    "arkadia= cinesGuate.find_element(By.CSS_SELECTOR, 'a')\n",
    "arkadia.click()\n",
    "time.sleep(2)\n",
    "\n",
    "cerrarVentanacine1= driver.find_element('id','modal-theatre-select')\n",
    "cerrarcine1= cerrarVentanacine1.find_element(By.CLASS_NAME,'change-theatre-button')\n",
    "cerrar1=cerrarcine1.find_element('xpath','//button[@class=\"btn-primary next\"]')\n",
    "cerrar1.click()\n",
    "time.sleep(5)\n",
    "#carteleraArkadia=driver.find_element('xpath','//ul[@class=\"box-menu grid-center-content\"]')\n",
    "#cartelera=carteleraArkadia.find_element('xpath','//a[@href=\"https://www.cinemarkca.com/guatemala/cine?tag=2202\"]')\n"
   ]
  }
 ],
 "metadata": {
  "kernelspec": {
   "display_name": "Python 3 (ipykernel)",
   "language": "python",
   "name": "python3"
  },
  "language_info": {
   "codemirror_mode": {
    "name": "ipython",
    "version": 3
   },
   "file_extension": ".py",
   "mimetype": "text/x-python",
   "name": "python",
   "nbconvert_exporter": "python",
   "pygments_lexer": "ipython3",
   "version": "3.9.7"
  }
 },
 "nbformat": 4,
 "nbformat_minor": 5
}
