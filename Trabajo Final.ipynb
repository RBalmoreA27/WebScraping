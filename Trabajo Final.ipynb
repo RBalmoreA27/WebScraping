{
 "cells": [
  {
   "cell_type": "code",
   "execution_count": 1,
   "id": "5e25916c",
   "metadata": {
    "scrolled": true
   },
   "outputs": [],
   "source": [
    "import requests\n",
    "import re\n",
    "import json\n",
    "from bs4 import BeautifulSoup\n",
    "from datetime import datetime as dt\n",
    "import pandas as pd\n",
    "\n",
    "websiteCinemas='https://cinemas.com.ni/cartelera/'\n",
    "\n",
    "movies_=[]\n",
    "current_date=dt.now()\n",
    "name_sales={'CNM01':'GALERÍAS','CNM02':'PLAZA INTER','CNM03':'BELLO HORIZONTE','CNM04':'VIP CAMINO DE ORIENTE','CNM05':'MASAYA'}\n",
    "dataframe=pd.DataFrame(columns=['Title','Theatre Name','Country','Circuit','Showtimes'])\n",
    "response_page=requests.get(websiteCinemas)\n",
    "page=BeautifulSoup(response_page.text,'html.parser')\n"
   ]
  },
  {
   "cell_type": "code",
   "execution_count": 2,
   "id": "1f37c653",
   "metadata": {},
   "outputs": [],
   "source": [
    "def sales(sale,movie_title):\n",
    "    sales_dic=json.loads(sale[2:(len(sale)-2)])\n",
    "    for key_sales, value in sales_dic.items():\n",
    "        if len(value[\"Tandas\"]) > 0:\n",
    "            if 'fecha' in value[\"Tandas\"][0]:\n",
    "                movie_={}\n",
    "                if str(current_date.day)== re.sub(r\"[^0-9]\",'',value[\"Tandas\"][0][\"fecha\"]):\n",
    "                    schedules=value[\"Tandas\"][0][\"Horarios\"]\n",
    "                    list_times=[]\n",
    "                    movie_[\"Title\"]=movie_title\n",
    "                    movie_[\"Theatre Name\"]=name_sales[key_sales]\n",
    "                    movie_['Country']='Nicaragua'\n",
    "                    movie_['Circuit']='Cinemas'\n",
    "                    for key_schedules, schedules_sales in schedules.items():\n",
    "                        if type(schedules_sales)== list :\n",
    "                            for i in schedules_sales:\n",
    "                                list_times.append(i[\"Hora\"])\n",
    "                        else:\n",
    "                            for key_, value_ in schedules_sales.items():\n",
    "                                list_times.append(value_[\"Hora\"])\n",
    "                        movie_[\"Showtimes\"]=list_times\n",
    "                    movies_.append(movie_)\n",
    "\n",
    "def data_movies(url):\n",
    "    response_cinema=requests.get(url)\n",
    "    page_movie=BeautifulSoup(response_cinema.text,'html.parser')\n",
    "    text_area=page_movie.find_all(name=\"textarea\",attrs={\"style\":\"display:none!important;\"})\n",
    "    title=page_movie.find(name='div',attrs={'id':'info-right'}).find('h2').text\n",
    "    sales(str(text_area[0].contents), title)\n",
    "\n",
    "cartelera=page.find(name=\"section\",attrs={'id':'section-cartelera'}).find_all('a',class_=\"btn-red\")\n",
    "for movie in cartelera:\n",
    "    data_movies(movie.get(\"href\"))"
   ]
  },
  {
   "cell_type": "code",
   "execution_count": 3,
   "id": "cba24c39",
   "metadata": {},
   "outputs": [],
   "source": [
    "for movie in movies_:\n",
    "    df_new=pd.DataFrame(movie)\n",
    "    dataframe=pd.concat([dataframe,df_new],ignore_index=True)\n",
    "\n",
    "dataframe.to_csv('Cinemas-Nicaragua'+ '-'+str(current_date.strftime(\"%d-%b-%Y\"))+'.csv', sep=';', encoding='utf-8', index=False)"
   ]
  }
 ],
 "metadata": {
  "kernelspec": {
   "display_name": "Python 3 (ipykernel)",
   "language": "python",
   "name": "python3"
  },
  "language_info": {
   "codemirror_mode": {
    "name": "ipython",
    "version": 3
   },
   "file_extension": ".py",
   "mimetype": "text/x-python",
   "name": "python",
   "nbconvert_exporter": "python",
   "pygments_lexer": "ipython3",
   "version": "3.9.7"
  }
 },
 "nbformat": 4,
 "nbformat_minor": 5
}
